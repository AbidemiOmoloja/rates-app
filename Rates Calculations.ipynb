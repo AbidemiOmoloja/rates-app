{
 "cells": [
  {
   "cell_type": "markdown",
   "id": "3abdd719",
   "metadata": {},
   "source": [
    "# Rates Calculations"
   ]
  },
  {
   "cell_type": "code",
   "execution_count": 14,
   "id": "30fd7fcf",
   "metadata": {},
   "outputs": [],
   "source": [
    "import os\n",
    "import pandas as pd\n",
    "import matplotlib.pyplot as plt\n",
    "import plotly.express as px\n",
    "import datetime"
   ]
  },
  {
   "cell_type": "code",
   "execution_count": 15,
   "id": "a7dccb50",
   "metadata": {},
   "outputs": [],
   "source": [
    "# pip install openpyxl matplotlib plotly"
   ]
  },
  {
   "cell_type": "markdown",
   "id": "57a904bd",
   "metadata": {},
   "source": [
    "## Data Ingestion (Reading in the data)"
   ]
  },
  {
   "cell_type": "code",
   "execution_count": 18,
   "id": "511e66d1",
   "metadata": {},
   "outputs": [],
   "source": [
    "main_path = os.getcwd()\n",
    "input_data_path = os.path.join(main_path, \"input_data\")\n",
    "rate_file_name = \"Rates.xlsx\"\n",
    "rate_file_data_path = os.path.join(input_data_path, rate_file_name)"
   ]
  },
  {
   "cell_type": "code",
   "execution_count": 21,
   "id": "69c7e218",
   "metadata": {},
   "outputs": [
    {
     "ename": "NameError",
     "evalue": "name 'rate_data' is not defined",
     "output_type": "error",
     "traceback": [
      "\u001b[0;31m---------------------------------------------------------------------------\u001b[0m",
      "\u001b[0;31mNameError\u001b[0m                                 Traceback (most recent call last)",
      "Cell \u001b[0;32mIn[21], line 4\u001b[0m\n\u001b[1;32m      1\u001b[0m rate_data \u001b[38;5;241m=\u001b[39m (\n\u001b[1;32m      2\u001b[0m     pd\n\u001b[1;32m      3\u001b[0m     \u001b[38;5;241m.\u001b[39mread_excel(rate_file_data_path, header\u001b[38;5;241m=\u001b[39m\u001b[38;5;241m1\u001b[39m)\n\u001b[0;32m----> 4\u001b[0m     \u001b[38;5;241m.\u001b[39mdrop(\u001b[43mrate_data\u001b[49m\u001b[38;5;241m.\u001b[39mindex[\u001b[38;5;241m0\u001b[39m])\n\u001b[1;32m      5\u001b[0m     \u001b[38;5;241m.\u001b[39mrename(columns\u001b[38;5;241m=\u001b[39m{\u001b[38;5;124m'\u001b[39m\u001b[38;5;124mUnnamed: 0\u001b[39m\u001b[38;5;124m'\u001b[39m: \u001b[38;5;124m'\u001b[39m\u001b[38;5;124mDate\u001b[39m\u001b[38;5;124m'\u001b[39m})\n\u001b[1;32m      6\u001b[0m )\n",
      "\u001b[0;31mNameError\u001b[0m: name 'rate_data' is not defined"
     ]
    }
   ],
   "source": [
    "rate_data = (\n",
    "    pd\n",
    "    .read_excel(rate_file_data_path, header=1)\n",
    "    .drop(rate_data.index[0])\n",
    "    .rename(columns={'Unnamed: 0': 'Date'})\n",
    ")"
   ]
  },
  {
   "cell_type": "code",
   "execution_count": 13,
   "id": "2cbb2ed8",
   "metadata": {},
   "outputs": [
    {
     "ename": "NameError",
     "evalue": "name 'rate_data' is not defined",
     "output_type": "error",
     "traceback": [
      "\u001b[0;31m---------------------------------------------------------------------------\u001b[0m",
      "\u001b[0;31mNameError\u001b[0m                                 Traceback (most recent call last)",
      "Cell \u001b[0;32mIn[13], line 1\u001b[0m\n\u001b[0;32m----> 1\u001b[0m \u001b[43mrate_data\u001b[49m\u001b[38;5;241m.\u001b[39mshape\n",
      "\u001b[0;31mNameError\u001b[0m: name 'rate_data' is not defined"
     ]
    }
   ],
   "source": [
    "rate_data.shape"
   ]
  },
  {
   "cell_type": "code",
   "execution_count": 44,
   "id": "7213a33e",
   "metadata": {},
   "outputs": [
    {
     "name": "stdout",
     "output_type": "stream",
     "text": [
      "<class 'pandas.core.frame.DataFrame'>\n",
      "RangeIndex: 571 entries, 1 to 571\n",
      "Data columns (total 11 columns):\n",
      " #   Column  Non-Null Count  Dtype \n",
      "---  ------  --------------  ----- \n",
      " 0   Date    570 non-null    object\n",
      " 1   GBPEUR  570 non-null    object\n",
      " 2   GBPUSD  570 non-null    object\n",
      " 3   GBPCHF  570 non-null    object\n",
      " 4   GBPAUD  570 non-null    object\n",
      " 5   GBPJPY  570 non-null    object\n",
      " 6   GBPCAD  570 non-null    object\n",
      " 7   GBPSEK  570 non-null    object\n",
      " 8   GBPNZD  570 non-null    object\n",
      " 9   GBPNOK  570 non-null    object\n",
      " 10  GBPPLN  570 non-null    object\n",
      "dtypes: object(11)\n",
      "memory usage: 49.2+ KB\n"
     ]
    }
   ],
   "source": [
    "rate_data.info(verbose=True, show_counts=True)"
   ]
  },
  {
   "cell_type": "code",
   "execution_count": null,
   "id": "5f9eeae6",
   "metadata": {},
   "outputs": [],
   "source": [
    "rate_data.head()"
   ]
  },
  {
   "cell_type": "code",
   "execution_count": 45,
   "id": "3d9fa1ea",
   "metadata": {},
   "outputs": [],
   "source": [
    "# Convert 'Date' column to datatime\n",
    "rate_data['Date'] = pd.to_datetime(rate_data['Date'])\n",
    "\n",
    "# Convert all other columns to numeric, handling errors\n",
    "# Exclude the date column from this operation\n",
    "for col in rate_data.columns.drop('Date'):\n",
    "    # 'errors= 'coerce' converts invalid parsing to NaN\n",
    "    rate_data[col] = pd.to_numeric(rate_data[col], errors='coerce') "
   ]
  },
  {
   "cell_type": "code",
   "execution_count": null,
   "id": "9dceef03",
   "metadata": {},
   "outputs": [],
   "source": [
    "now = datetime.datetime.today()\n",
    "now.strftime(\"%Y-%m-%d\")"
   ]
  },
  {
   "cell_type": "code",
   "execution_count": null,
   "id": "22d374e2",
   "metadata": {},
   "outputs": [],
   "source": [
    "strftime(now)"
   ]
  },
  {
   "cell_type": "code",
   "execution_count": null,
   "id": "83e5419b",
   "metadata": {},
   "outputs": [],
   "source": [
    "min_date = \"2023-12-25\"\n",
    "max_date = now.strftime(\"%Y-%m-%d\")"
   ]
  },
  {
   "cell_type": "code",
   "execution_count": null,
   "id": "917b60f8",
   "metadata": {},
   "outputs": [],
   "source": [
    "rate_data[(rate_data[\"Date\"] >= min_date) & (rate_data[\"Date\"] <= max_date)]"
   ]
  },
  {
   "cell_type": "code",
   "execution_count": 46,
   "id": "577b4a99",
   "metadata": {},
   "outputs": [
    {
     "name": "stdout",
     "output_type": "stream",
     "text": [
      "<class 'pandas.core.frame.DataFrame'>\n",
      "RangeIndex: 571 entries, 1 to 571\n",
      "Data columns (total 11 columns):\n",
      " #   Column  Non-Null Count  Dtype         \n",
      "---  ------  --------------  -----         \n",
      " 0   Date    570 non-null    datetime64[ns]\n",
      " 1   GBPEUR  570 non-null    float64       \n",
      " 2   GBPUSD  570 non-null    float64       \n",
      " 3   GBPCHF  570 non-null    float64       \n",
      " 4   GBPAUD  570 non-null    float64       \n",
      " 5   GBPJPY  570 non-null    float64       \n",
      " 6   GBPCAD  570 non-null    float64       \n",
      " 7   GBPSEK  570 non-null    float64       \n",
      " 8   GBPNZD  570 non-null    float64       \n",
      " 9   GBPNOK  570 non-null    float64       \n",
      " 10  GBPPLN  570 non-null    float64       \n",
      "dtypes: datetime64[ns](1), float64(10)\n",
      "memory usage: 49.2 KB\n"
     ]
    }
   ],
   "source": [
    "rate_data.info(verbose=True, show_counts=True)"
   ]
  },
  {
   "cell_type": "markdown",
   "id": "0e2047c8",
   "metadata": {},
   "source": [
    "## Some Calculations"
   ]
  },
  {
   "cell_type": "markdown",
   "id": "8d3e2e33",
   "metadata": {},
   "source": [
    "1. Generate from the last working day in 2023 till date.\n",
    "    - Chart 1 to cover -> GBPEUR\tGBPUSD\tGBPCHF\tGBPAUD\tGBPJPY\t\n",
    "    - Chart 2 to cover -> GBPCAD\tGBPSEK\tGBPNZD\tGBPNOK\tGBPPLN"
   ]
  },
  {
   "cell_type": "code",
   "execution_count": 5,
   "id": "3a94d3e3",
   "metadata": {},
   "outputs": [],
   "source": [
    "def charter(df, min_date, max_date, column_names):\n",
    "    \"\"\"\n",
    "        :df - actual data\n",
    "    :min_date - Minimum date\n",
    "    :max_date - Maximum date\n",
    "    :column_names - [column1, column2, ...]\n",
    "    \"\"\"\n",
    "    \n",
    "    df_plot = df[df[\"Date\"] >= min_date & df[\"Date\"] <= max_date]\n",
    "    df_plot = df_plot[column_names].reset_index(drop=True)\n",
    "    \n",
    "    # Plotting\n",
    "fig = px.line(\n",
    "    dt_plot,\n",
    "    x='Date',\n",
    "    y=df_data.columns[1:],\n",
    "    title='Time Series Data',\n",
    "    labels={'value': 'Value', 'variable': 'Series'}\n",
    "\n",
    ")\n",
    "\n",
    "# Show plot\n",
    "fig.show()\n",
    "    \n",
    "    \n",
    "    return df_plot"
   ]
  },
  {
   "cell_type": "code",
   "execution_count": null,
   "id": "7d49594b",
   "metadata": {},
   "outputs": [],
   "source": [
    "selected_columns_one = [\n",
    "    \"GBPEUR\"\n",
    "    \"GBPUSD\"\n",
    "    \"GBPCHF\"\n",
    "    \"GBPAUD\"\n",
    "    \"GBPJPY\"\n",
    "    \n",
    "]"
   ]
  },
  {
   "cell_type": "code",
   "execution_count": 6,
   "id": "68076dce",
   "metadata": {},
   "outputs": [
    {
     "ename": "NameError",
     "evalue": "name 'selected_columns_one' is not defined",
     "output_type": "error",
     "traceback": [
      "\u001b[0;31m---------------------------------------------------------------------------\u001b[0m",
      "\u001b[0;31mNameError\u001b[0m                                 Traceback (most recent call last)",
      "Cell \u001b[0;32mIn[6], line 1\u001b[0m\n\u001b[0;32m----> 1\u001b[0m \u001b[38;5;28mset\u001b[39m(\u001b[43mselected_columns_one\u001b[49m)\n",
      "\u001b[0;31mNameError\u001b[0m: name 'selected_columns_one' is not defined"
     ]
    }
   ],
   "source": [
    "set(selected_columns_one)"
   ]
  },
  {
   "cell_type": "code",
   "execution_count": 7,
   "id": "a8dc62bd",
   "metadata": {
    "scrolled": true
   },
   "outputs": [
    {
     "ename": "NameError",
     "evalue": "name 'rate_data' is not defined",
     "output_type": "error",
     "traceback": [
      "\u001b[0;31m---------------------------------------------------------------------------\u001b[0m",
      "\u001b[0;31mNameError\u001b[0m                                 Traceback (most recent call last)",
      "Cell \u001b[0;32mIn[7], line 1\u001b[0m\n\u001b[0;32m----> 1\u001b[0m data_part_one \u001b[38;5;241m=\u001b[39m charter(df\u001b[38;5;241m=\u001b[39m\u001b[43mrate_data\u001b[49m, min_date\u001b[38;5;241m=\u001b[39m\u001b[38;5;124m\"\u001b[39m\u001b[38;5;124m2023-12-29\u001b[39m\u001b[38;5;124m\"\u001b[39m, max_date\u001b[38;5;241m=\u001b[39m\u001b[38;5;124m\"\u001b[39m\u001b[38;5;124m2024-02-29\u001b[39m\u001b[38;5;124m\"\u001b[39m, column_names\u001b[38;5;241m=\u001b[39mselected_columns_one)\n",
      "\u001b[0;31mNameError\u001b[0m: name 'rate_data' is not defined"
     ]
    }
   ],
   "source": [
    "data_part_one = charter(df=rate_data, min_date=\"2023-12-29\", max_date=\"2024-02-29\", column_names=selected_columns_one)"
   ]
  },
  {
   "cell_type": "code",
   "execution_count": 8,
   "id": "6c21c79b",
   "metadata": {},
   "outputs": [
    {
     "ename": "NameError",
     "evalue": "name 'data_part_one' is not defined",
     "output_type": "error",
     "traceback": [
      "\u001b[0;31m---------------------------------------------------------------------------\u001b[0m",
      "\u001b[0;31mNameError\u001b[0m                                 Traceback (most recent call last)",
      "Cell \u001b[0;32mIn[8], line 1\u001b[0m\n\u001b[0;32m----> 1\u001b[0m \u001b[43mdata_part_one\u001b[49m\n",
      "\u001b[0;31mNameError\u001b[0m: name 'data_part_one' is not defined"
     ]
    }
   ],
   "source": [
    "data_part_one.head()"
   ]
  },
  {
   "cell_type": "code",
   "execution_count": null,
   "id": "e185d9db",
   "metadata": {},
   "outputs": [],
   "source": [
    "selected_columns_two = [\n",
    "    \"Date\",\n",
    "    \"GBPCAD\",\n",
    "    \"GBPSEK\",\n",
    "    \"GBPNZD\",\n",
    "    \"GBPNOK\",\n",
    "    \"GBPPLN\"\n",
    "]"
   ]
  },
  {
   "cell_type": "code",
   "execution_count": null,
   "id": "a744c934",
   "metadata": {},
   "outputs": [],
   "source": [
    "data_part_one = charter(\n",
    "    df=rate_data,\n",
    "    min_date=\"2023-12-29\",\n",
    "    max_date=\"2024-02-29\",\n",
    "    column_names=selected_columns_two\n",
    ")"
   ]
  }
 ],
 "metadata": {
  "kernelspec": {
   "display_name": "Python 3 (ipykernel)",
   "language": "python",
   "name": "python3"
  },
  "language_info": {
   "codemirror_mode": {
    "name": "ipython",
    "version": 3
   },
   "file_extension": ".py",
   "mimetype": "text/x-python",
   "name": "python",
   "nbconvert_exporter": "python",
   "pygments_lexer": "ipython3",
   "version": "3.10.13"
  }
 },
 "nbformat": 4,
 "nbformat_minor": 5
}
